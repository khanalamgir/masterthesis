{
 "cells": [
  {
   "cell_type": "code",
   "execution_count": 159,
   "id": "c72adeb6-4aea-48dc-8439-d769f7fa947f",
   "metadata": {},
   "outputs": [],
   "source": [
    "from sys import stdout\n",
    "import numpy as np\n",
    "import pandas as pd\n",
    "import matplotlib.pyplot as plt\n",
    "import tensorflow as tf\n",
    "from tensorflow import keras \n",
    "from tensorflow.keras.models import Sequential\n",
    "from tensorflow.keras.layers import Dense, Dropout, Flatten\n",
    "from tensorflow.keras.layers import Conv1D, Reshape#, MaxPooling1D\n",
    "from tensorflow.keras.layers import GaussianNoise\n",
    "from tensorflow.keras.callbacks import EarlyStopping,ReduceLROnPlateau\n",
    "from livelossplot.tf_keras import PlotLossesCallback\n",
    "\n",
    "from sklearn.cross_decomposition import PLSCanonical\n",
    "from scipy.signal import find_peaks\n",
    "\n",
    "\n",
    "from sklearn.cross_decomposition import PLSRegression\n",
    "from sklearn.decomposition import PCA"
   ]
  },
  {
   "cell_type": "code",
   "execution_count": 147,
   "id": "ef119df6-fd9f-433e-8192-4397f7b5f535",
   "metadata": {},
   "outputs": [
    {
     "data": {
      "text/plain": [
       "(5,)"
      ]
     },
     "execution_count": 147,
     "metadata": {},
     "output_type": "execute_result"
    }
   ],
   "source": [
    "X = np.genfromtxt('C:/Users/alamg/Documents/MATLAB/Thesis/X_v3.csv', delimiter=',')\n",
    "Y = np.genfromtxt('C:/Users/alamg/Documents/MATLAB/Thesis/Targets_v3.csv', delimiter=',')\n",
    "w1= np.arange(0,3848,1)\n",
    "w2=np.arange(0,101,1)\n",
    "w3=np.linspace(400,700,101)\n",
    "y= Y[:,0]\n",
    "dP1 = []\n",
    "dP2 = []\n",
    "dP3 = []\n",
    "dA1 = []\n",
    "dA2 = []\n",
    "dA3 = []\n",
    "pos1 = []\n",
    "pos2 = []\n",
    "pos3 = []\n",
    "\n",
    "X[1].shape"
   ]
  },
  {
   "cell_type": "code",
   "execution_count": 148,
   "id": "3ce6f196-745a-4197-9cbe-fb7dd2302931",
   "metadata": {},
   "outputs": [
    {
     "data": {
      "image/png": "[encoded data removed]",
      "text/plain": [
       "<Figure size 640x480 with 1 Axes>"
      ]
     },
     "metadata": {},
     "output_type": "display_data"
    }
   ],
   "source": [
    "with plt.style.context('ggplot'):\n",
    "    plt.plot(w3,Y[4,:])\n",
    "    plt.xlabel(\"X axis (nm)\")\n",
    "    plt.ylabel(\"Y-axis\")\n",
    "    plt.show()"
   ]
  },
  {
   "cell_type": "code",
   "execution_count": 149,
   "id": "16074979-d1d8-4184-9b32-2dfc8aa4e89c",
   "metadata": {},
   "outputs": [],
   "source": [
    "for i in w1:\n",
    "    peaks, _ = find_peaks(Y[i,:],height=0.4)\n",
    "    if len(peaks)==1:\n",
    "      dP1.append(peaks)\n",
    "      dA1.append(Y[peaks,:])\n",
    "      pos1.append(i)  \n",
    "    if len(peaks)==2:\n",
    "        dP2.append(peaks)\n",
    "        dA2.append(Y[peaks,:])\n",
    "        pos2.append(i)  \n",
    "    if len(peaks)==3:\n",
    "        dP3.append(peaks)\n",
    "        dA3.append(Y[peaks,:])\n",
    "        pos3.append(i)"
   ]
  },
  {
   "cell_type": "code",
   "execution_count": 156,
   "id": "7e283b44-e5ec-41ff-a939-838c93f8160a",
   "metadata": {},
   "outputs": [],
   "source": [
    "y_scaled = [dP1,dA1]"
   ]
  },
  {
   "cell_type": "code",
   "execution_count": 160,
   "id": "287e9d21-7a38-49b5-8bc0-644653d3c3eb",
   "metadata": {},
   "outputs": [],
   "source": [
    "DENSE = 176      # Number of neurons in the DENSE (a.k.a Fully connected) layer\n",
    "DROPOUT = 0.045  # Dropout rate\n",
    "C1_K  = 14       # Number of kernels/filters for conv. first layer\n",
    "C1_S  = 29       # Width of the filters for first conv. layer\n",
    "C2_K  = 30       # Number of kernels/filters for second conv. layer\n",
    "C2_S  = 22       # Width of the filters for second conv. layer\n",
    "\n",
    "activation='relu'  # activation function (other possible options 'elu' or 'Leaky relu')\n",
    "\n",
    "input_dim = X.shape[1]\n",
    "\n",
    "## The model\n",
    "def make_model():\n",
    "    \"\"\" This functions outputs the CNN model already compiled \"\"\"\n",
    "    model = keras.Sequential()\n",
    "    #Adding a bit of GaussianNoise also works as regularization\n",
    "    model.add(keras.layers.GaussianNoise(0.01, input_shape=(input_dim,)))\n",
    "    #First two is number of filter + kernel size\n",
    "    model.add(keras.layers.Reshape((input_dim, 1)))\n",
    "    model.add(keras.layers.Conv1D(C1_K, (C1_S), padding='same', activation=activation))\n",
    "    model.add(keras.layers.Conv1D(C2_K, (C2_S), padding='same', activation=activation))\n",
    "    model.add(keras.layers.Flatten())\n",
    "    model.add(keras.layers.Dropout(DROPOUT))\n",
    "    model.add(keras.layers.Dense(DENSE, activation=activation))\n",
    "    model.add(keras.layers.Dense(1, activation='linear'))\n",
    "    \n",
    "    ## Compile options for the model\n",
    "#     model.compile(loss='mse', optimizer=keras.optimizers.Adadelta(lr=0.01))#, metrics=['mean_absolute_error'])\n",
    "#     model.compile(loss='mse', optimizer='adam')#, metrics=['mean_absolute_error'])\n",
    "    model.compile(loss='huber_loss', optimizer=keras.optimizers.Adam(learning_rate=0.0004), metrics=['mean_absolute_error'])\n",
    "#     model.compile(loss='huber_loss', optimizer='adam', metrics=['mean_squared_error'])\n",
    "    return model"
   ]
  },
  {
   "cell_type": "code",
   "execution_count": 161,
   "id": "c67a829f-a873-44e0-a789-0745598ff785",
   "metadata": {},
   "outputs": [
    {
     "name": "stdout",
     "output_type": "stream",
     "text": [
      "Model: \"sequential_3\"\n",
      "_________________________________________________________________\n",
      " Layer (type)                Output Shape              Param #   \n",
      "=================================================================\n",
      " gaussian_noise_3 (Gaussian  (None, 5)                 0         \n",
      " Noise)                                                          \n",
      "                                                                 \n",
      " reshape_2 (Reshape)         (None, 5, 1)              0         \n",
      "                                                                 \n",
      " conv1d_4 (Conv1D)           (None, 5, 14)             420       \n",
      "                                                                 \n",
      " conv1d_5 (Conv1D)           (None, 5, 30)             9270      \n",
      "                                                                 \n",
      " flatten_2 (Flatten)         (None, 150)               0         \n",
      "                                                                 \n",
      " dropout_2 (Dropout)         (None, 150)               0         \n",
      "                                                                 \n",
      " dense_4 (Dense)             (None, 176)               26576     \n",
      "                                                                 \n",
      " dense_5 (Dense)             (None, 1)                 177       \n",
      "                                                                 \n",
      "=================================================================\n",
      "Total params: 36443 (142.36 KB)\n",
      "Trainable params: 36443 (142.36 KB)\n",
      "Non-trainable params: 0 (0.00 Byte)\n",
      "_________________________________________________________________\n",
      "None\n"
     ]
    }
   ],
   "source": [
    "model_cnn=make_model()\n",
    "print(model_cnn.summary())"
   ]
  },
  {
   "cell_type": "code",
   "execution_count": 163,
   "id": "364b5b05-c115-425e-9bb7-7be496d062a1",
   "metadata": {},
   "outputs": [
    {
     "ename": "TypeError",
     "evalue": "MainLogger.__init__() got an unexpected keyword argument 'plot_extrema'",
     "output_type": "error",
     "traceback": [
      "\u001b[1;31m---------------------------------------------------------------------------\u001b[0m",
      "\u001b[1;31mTypeError\u001b[0m                                 Traceback (most recent call last)",
      "Cell \u001b[1;32mIn[163], line 7\u001b[0m\n\u001b[0;32m      4\u001b[0m rdlr \u001b[38;5;241m=\u001b[39m ReduceLROnPlateau(patience\u001b[38;5;241m=\u001b[39m\u001b[38;5;241m25\u001b[39m, factor\u001b[38;5;241m=\u001b[39m\u001b[38;5;241m0.5\u001b[39m, min_lr\u001b[38;5;241m=\u001b[39m\u001b[38;5;241m1e-6\u001b[39m, monitor\u001b[38;5;241m=\u001b[39m\u001b[38;5;124m'\u001b[39m\u001b[38;5;124mval_loss\u001b[39m\u001b[38;5;124m'\u001b[39m, verbose\u001b[38;5;241m=\u001b[39m\u001b[38;5;241m1\u001b[39m)\n\u001b[0;32m      5\u001b[0m early_stop \u001b[38;5;241m=\u001b[39m EarlyStopping(monitor\u001b[38;5;241m=\u001b[39m\u001b[38;5;124m'\u001b[39m\u001b[38;5;124mloss\u001b[39m\u001b[38;5;124m'\u001b[39m, min_delta\u001b[38;5;241m=\u001b[39m\u001b[38;5;241m4e-4\u001b[39m, patience\u001b[38;5;241m=\u001b[39m\u001b[38;5;241m50\u001b[39m, mode\u001b[38;5;241m=\u001b[39m\u001b[38;5;124m'\u001b[39m\u001b[38;5;124mauto\u001b[39m\u001b[38;5;124m'\u001b[39m, \\\n\u001b[0;32m      6\u001b[0m                                            restore_best_weights\u001b[38;5;241m=\u001b[39m\u001b[38;5;28;01mTrue\u001b[39;00m)\n\u001b[1;32m----> 7\u001b[0m plot_losses \u001b[38;5;241m=\u001b[39m \u001b[43mPlotLossesCallback\u001b[49m\u001b[43m(\u001b[49m\u001b[43mplot_extrema\u001b[49m\u001b[38;5;241;43m=\u001b[39;49m\u001b[38;5;28;43;01mFalse\u001b[39;49;00m\u001b[43m)\u001b[49m\n\u001b[0;32m      8\u001b[0m \u001b[38;5;66;03m## Also, use or not the ReduceLOnPlateau() in the callbacks. In this case we have adam fixed at 0.0004 and only use early_stop.\u001b[39;00m\n\u001b[0;32m     10\u001b[0m h \u001b[38;5;241m=\u001b[39m model_cnn\u001b[38;5;241m.\u001b[39mfit(X, y_scaled , epochs\u001b[38;5;241m=\u001b[39m\u001b[38;5;241m250\u001b[39m, batch_size\u001b[38;5;241m=\u001b[39m\u001b[38;5;241m45\u001b[39m, validation_split\u001b[38;5;241m=\u001b[39m\u001b[38;5;241m0.2\u001b[39m, callbacks\u001b[38;5;241m=\u001b[39m[early_stop])\n",
      "File \u001b[1;32m~\\miniconda3\\Lib\\site-packages\\livelossplot\\inputs\\tf_keras.py:9\u001b[0m, in \u001b[0;36mPlotLossesCallback.__init__\u001b[1;34m(self, **kwargs)\u001b[0m\n\u001b[0;32m      7\u001b[0m \u001b[38;5;28;01mdef\u001b[39;00m \u001b[38;5;21m__init__\u001b[39m(\u001b[38;5;28mself\u001b[39m, \u001b[38;5;241m*\u001b[39m\u001b[38;5;241m*\u001b[39mkwargs):\n\u001b[0;32m      8\u001b[0m     keras\u001b[38;5;241m.\u001b[39mcallbacks\u001b[38;5;241m.\u001b[39mCallback\u001b[38;5;241m.\u001b[39m\u001b[38;5;21m__init__\u001b[39m(\u001b[38;5;28mself\u001b[39m)\n\u001b[1;32m----> 9\u001b[0m     \u001b[43m_PlotLossesCallback\u001b[49m\u001b[38;5;241;43m.\u001b[39;49m\u001b[38;5;21;43m__init__\u001b[39;49m\u001b[43m(\u001b[49m\u001b[38;5;28;43mself\u001b[39;49m\u001b[43m,\u001b[49m\u001b[43m \u001b[49m\u001b[38;5;241;43m*\u001b[39;49m\u001b[38;5;241;43m*\u001b[39;49m\u001b[43mkwargs\u001b[49m\u001b[43m)\u001b[49m\n",
      "File \u001b[1;32m~\\miniconda3\\Lib\\site-packages\\livelossplot\\inputs\\generic_keras.py:13\u001b[0m, in \u001b[0;36m_PlotLossesCallback.__init__\u001b[1;34m(self, **kwargs)\u001b[0m\n\u001b[0;32m      8\u001b[0m \u001b[38;5;28;01mdef\u001b[39;00m \u001b[38;5;21m__init__\u001b[39m(\u001b[38;5;28mself\u001b[39m, \u001b[38;5;241m*\u001b[39m\u001b[38;5;241m*\u001b[39mkwargs):\n\u001b[0;32m      9\u001b[0m \u001b[38;5;250m    \u001b[39m\u001b[38;5;124;03m\"\"\"\u001b[39;00m\n\u001b[0;32m     10\u001b[0m \u001b[38;5;124;03m    Args:\u001b[39;00m\n\u001b[0;32m     11\u001b[0m \u001b[38;5;124;03m        **kwargs: keyword arguments that will be passed to PlotLosses constructor\u001b[39;00m\n\u001b[0;32m     12\u001b[0m \u001b[38;5;124;03m    \"\"\"\u001b[39;00m\n\u001b[1;32m---> 13\u001b[0m     \u001b[38;5;28mself\u001b[39m\u001b[38;5;241m.\u001b[39mliveplot \u001b[38;5;241m=\u001b[39m \u001b[43mPlotLosses\u001b[49m\u001b[43m(\u001b[49m\u001b[38;5;241;43m*\u001b[39;49m\u001b[38;5;241;43m*\u001b[39;49m\u001b[43mkwargs\u001b[49m\u001b[43m)\u001b[49m\n",
      "File \u001b[1;32m~\\miniconda3\\Lib\\site-packages\\livelossplot\\plot_losses.py:29\u001b[0m, in \u001b[0;36mPlotLosses.__init__\u001b[1;34m(self, outputs, mode, **kwargs)\u001b[0m\n\u001b[0;32m     15\u001b[0m \u001b[38;5;28;01mdef\u001b[39;00m \u001b[38;5;21m__init__\u001b[39m(\n\u001b[0;32m     16\u001b[0m     \u001b[38;5;28mself\u001b[39m,\n\u001b[0;32m     17\u001b[0m     outputs: List[Union[Type[BO], \u001b[38;5;28mstr\u001b[39m]] \u001b[38;5;241m=\u001b[39m [\u001b[38;5;124m'\u001b[39m\u001b[38;5;124mMatplotlibPlot\u001b[39m\u001b[38;5;124m'\u001b[39m, \u001b[38;5;124m'\u001b[39m\u001b[38;5;124mExtremaPrinter\u001b[39m\u001b[38;5;124m'\u001b[39m],\n\u001b[0;32m     18\u001b[0m     mode: \u001b[38;5;28mstr\u001b[39m \u001b[38;5;241m=\u001b[39m \u001b[38;5;124m'\u001b[39m\u001b[38;5;124mnotebook\u001b[39m\u001b[38;5;124m'\u001b[39m,\n\u001b[0;32m     19\u001b[0m     \u001b[38;5;241m*\u001b[39m\u001b[38;5;241m*\u001b[39mkwargs\n\u001b[0;32m     20\u001b[0m ):\n\u001b[0;32m     21\u001b[0m \u001b[38;5;250m    \u001b[39m\u001b[38;5;124;03m\"\"\"\u001b[39;00m\n\u001b[0;32m     22\u001b[0m \u001b[38;5;124;03m    Args:\u001b[39;00m\n\u001b[0;32m     23\u001b[0m \u001b[38;5;124;03m        outputs: list of output modules: objects inheriting from BaseOutput\u001b[39;00m\n\u001b[1;32m   (...)\u001b[0m\n\u001b[0;32m     27\u001b[0m \u001b[38;5;124;03m        **kwargs: key-arguments which are passed to MainLogger constructor\u001b[39;00m\n\u001b[0;32m     28\u001b[0m \u001b[38;5;124;03m    \"\"\"\u001b[39;00m\n\u001b[1;32m---> 29\u001b[0m     \u001b[38;5;28mself\u001b[39m\u001b[38;5;241m.\u001b[39mlogger \u001b[38;5;241m=\u001b[39m \u001b[43mMainLogger\u001b[49m\u001b[43m(\u001b[49m\u001b[38;5;241;43m*\u001b[39;49m\u001b[38;5;241;43m*\u001b[39;49m\u001b[43mkwargs\u001b[49m\u001b[43m)\u001b[49m\n\u001b[0;32m     30\u001b[0m     \u001b[38;5;28mself\u001b[39m\u001b[38;5;241m.\u001b[39moutputs \u001b[38;5;241m=\u001b[39m [\u001b[38;5;28mgetattr\u001b[39m(livelossplot\u001b[38;5;241m.\u001b[39moutputs, out)() \u001b[38;5;28;01mif\u001b[39;00m \u001b[38;5;28misinstance\u001b[39m(out, \u001b[38;5;28mstr\u001b[39m) \u001b[38;5;28;01melse\u001b[39;00m out \u001b[38;5;28;01mfor\u001b[39;00m out \u001b[38;5;129;01min\u001b[39;00m outputs]\n\u001b[0;32m     31\u001b[0m     \u001b[38;5;28;01mfor\u001b[39;00m out \u001b[38;5;129;01min\u001b[39;00m \u001b[38;5;28mself\u001b[39m\u001b[38;5;241m.\u001b[39moutputs:\n",
      "\u001b[1;31mTypeError\u001b[0m: MainLogger.__init__() got an unexpected keyword argument 'plot_extrema'"
     ]
    }
   ],
   "source": [
    "from livelossplot.tf_keras import PlotLossesCallback\n",
    "\n",
    "\n",
    "rdlr = ReduceLROnPlateau(patience=25, factor=0.5, min_lr=1e-6, monitor='val_loss', verbose=1)\n",
    "early_stop = EarlyStopping(monitor='loss', min_delta=4e-4, patience=50, mode='auto', \\\n",
    "                                           restore_best_weights=True)\n",
    "plot_losses = PlotLossesCallback(plot_extrema=False)\n",
    "## Also, use or not the ReduceLOnPlateau() in the callbacks. In this case we have adam fixed at 0.0004 and only use early_stop.\n",
    "\n",
    "h = model_cnn.fit(X, y_scaled , epochs=250, batch_size=45, validation_split=0.2, callbacks=[early_stop])"
   ]
  },
  {
   "cell_type": "code",
   "execution_count": null,
   "id": "d4c4bf53-207b-4f4f-a282-db659234ee8c",
   "metadata": {},
   "outputs": [],
   "source": []
  }
 ],
 "metadata": {
  "kernelspec": {
   "display_name": "Python 3 (ipykernel)",
   "language": "python",
   "name": "python3"
  },
  "language_info": {
   "codemirror_mode": {
    "name": "ipython",
    "version": 3
   },
   "file_extension": ".py",
   "mimetype": "text/x-python",
   "name": "python",
   "nbconvert_exporter": "python",
   "pygments_lexer": "ipython3",
   "version": "3.11.4"
  }
 },
 "nbformat": 4,
 "nbformat_minor": 5
}
